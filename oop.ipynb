{
 "metadata": {
  "language_info": {
   "codemirror_mode": {
    "name": "ipython",
    "version": 3
   },
   "file_extension": ".py",
   "mimetype": "text/x-python",
   "name": "python",
   "nbconvert_exporter": "python",
   "pygments_lexer": "ipython3",
   "version": "3.9.4-final"
  },
  "orig_nbformat": 2,
  "kernelspec": {
   "name": "python394jvsc74a57bd03442a310ad09965e2d2b12f7c810a3d20c2f1554de96e2822ce67bc9f470492a",
   "display_name": "Python 3.9.4 64-bit"
  },
  "metadata": {
   "interpreter": {
    "hash": "3442a310ad09965e2d2b12f7c810a3d20c2f1554de96e2822ce67bc9f470492a"
   }
  }
 },
 "nbformat": 4,
 "nbformat_minor": 2,
 "cells": [
  {
   "source": [
    "### Object Oriented Programming in Python"
   ],
   "cell_type": "markdown",
   "metadata": {}
  },
  {
   "cell_type": "code",
   "execution_count": null,
   "metadata": {},
   "outputs": [],
   "source": [
    "string = \"Hola Mundo\"\n",
    "string.upper()\n",
    "type(string)"
   ]
  },
  {
   "source": [
    "> Basic code to create a class in python"
   ],
   "cell_type": "markdown",
   "metadata": {}
  },
  {
   "cell_type": "code",
   "execution_count": 30,
   "metadata": {},
   "outputs": [
    {
     "output_type": "stream",
     "name": "stdout",
     "text": [
      "The new age of your dog is: 7\n\nMi perro se llama Peluchin\n\nMi perro se llama Firulais\n\n"
     ]
    }
   ],
   "source": [
    "class Dog:\n",
    "    ''' Constructor Method '''\n",
    "    def __init__(self, name, age):\n",
    "        self.name = name\n",
    "        self.age = int(age)\n",
    "        # print(f\"Creaste un perro y se llama {self.name.upper()}\")\n",
    "        # print(\"Tu nombre:\", self.name)\n",
    "    \n",
    "    def print_name(self): # self es importante y va siempre en los métodos publicos\n",
    "        print(f\"Mi perro se llama {self.name}\\n\")\n",
    "    \n",
    "    def add_years(self, years):\n",
    "        self.age += int(years)\n",
    "        print(f\"The new age of your dog is: {self.age}\\n\")\n",
    "    \n",
    "    def print_id(self):\n",
    "        return f\"Este es el id de memoria de tu perro: {id(self)}\\n\"\n",
    "\n",
    "\n",
    "chihuahua = Dog(\"Firulais\", 7)\n",
    "pug = Dog(\"Peluchin\", 2)\n",
    "pug.add_years(5)\n",
    "pug.print_id()\n",
    "\n",
    "\n",
    "pug.print_name()\n",
    "chihuahua.print_name()"
   ]
  },
  {
   "cell_type": "code",
   "execution_count": 36,
   "metadata": {},
   "outputs": [
    {
     "output_type": "stream",
     "name": "stdout",
     "text": [
      "Estudiante agregado al curso exitosamente\nEstudiante agregado al curso exitosamente\nYa completaste el curso con la cantidad de alumnos\n"
     ]
    }
   ],
   "source": [
    "# Class definition\n",
    "\n",
    "class Student:\n",
    "    def __init__(self, name, age, grade):\n",
    "        self.name = name\n",
    "        self.age = age\n",
    "        self.grade = grade\n",
    "\n",
    "    def get_grade(self):\n",
    "        return self.grade\n",
    "\n",
    "class Course:\n",
    "    def __init__(self, name, max_students):\n",
    "        self.name = name\n",
    "        self.max_students = max_students\n",
    "        self.students = []\n",
    "        self.is_active = False\n",
    "    \n",
    "    def add_student(self, student):\n",
    "        if len(self.students) < self.max_students:\n",
    "            self.students.append(student)\n",
    "            return \"Estudiante agregado al curso exitosamente\"\n",
    "        return \"Ya completaste el curso con la cantidad de alumnos\"\n",
    "\n",
    "\n",
    "\n",
    "### Start program here:\n",
    "\n",
    "dudmit = Student(\"Dudmit\", 21, 10)\n",
    "susana = Student(\"Susana\" , 16, 10)\n",
    "Leonardo = Student(\"Leonardo\", 21, 8)\n",
    "\n",
    "c1 = Course(\"python\", 2)\n",
    "print(c1.add_student(dudmit))\n",
    "print(c1.add_student(susana))\n",
    "print(c1.add_student(Leonardo))\n",
    "\n",
    "\n"
   ]
  },
  {
   "cell_type": "code",
   "execution_count": 49,
   "metadata": {},
   "outputs": [
    {
     "output_type": "stream",
     "name": "stdout",
     "text": [
      "Estudiante agregado al curso exitosamente\nEstudiante agregado al curso exitosamente\nEstudiante agregado al curso exitosamente\nEl promedio de los alumnos es:  100\n"
     ]
    }
   ],
   "source": [
    "class Student:\n",
    "    def __init__(self, name, age, grade):\n",
    "        self.name = name\n",
    "        self.age = age\n",
    "        self.grade = grade\n",
    "\n",
    "    def get_grade(self):\n",
    "        return self.grade\n",
    "\n",
    "    def __str__(self):\n",
    "        return f\"Nombre: {self.name}, Edad: {self.age}\"\n",
    "###########################################################\n",
    "\n",
    "class Course:\n",
    "    MAX_STUDENTS = 100\n",
    "    \n",
    "    def __init__(self, name, max_students):\n",
    "        self.name = name\n",
    "        self.max_students = max_students\n",
    "        self.students = []\n",
    "        self.is_active = False\n",
    "    \n",
    "    def add_student(self, student):\n",
    "        if len(self.students) < self.max_students:\n",
    "            self.students.append(student)\n",
    "            return \"Estudiante agregado al curso exitosamente\"\n",
    "        return \"Ya completaste el curso con la cantidad de alumnos\"\n",
    "    \n",
    "    def get_average_grade():\n",
    "        value = 100 # Variable local vive solo en el método, yo no dejo que otra clase vea este dato\n",
    "        # for student in self.students:\n",
    "        #     value += student.get_grade()\n",
    "\n",
    "        return value\n",
    "\n",
    "\n",
    "### Start program here:\n",
    "\n",
    "dudmit = Student(\"Dudmit\", 21, 10)\n",
    "susana = Student(\"Susana\" , 16, 10)\n",
    "Leonardo = Student(\"Leonardo\", 21, 8)\n",
    "\n",
    "c1 = Course(\"python\", 3) # c1 is an object, la instancia de una clase, es un derivado de una clase\n",
    "\n",
    "print(c1.add_student(dudmit))\n",
    "print(c1.add_student(susana))\n",
    "print(c1.add_student(Leonardo))\n",
    "\n",
    "print(\"El promedio de los alumnos es: \",Course.MAX_STUDENTS)\n",
    "\n",
    "# print(dudmit)\n",
    "# print(susana)\n",
    "# print(c1)"
   ]
  },
  {
   "cell_type": "code",
   "execution_count": 43,
   "metadata": {},
   "outputs": [
    {
     "output_type": "execute_result",
     "data": {
      "text/plain": [
       "9.333333333333334"
      ]
     },
     "metadata": {},
     "execution_count": 43
    }
   ],
   "source": [
    "def average(value, total):\n",
    "    return value / total\n",
    "\n",
    "average(28,3)"
   ]
  },
  {
   "cell_type": "code",
   "execution_count": 50,
   "metadata": {},
   "outputs": [
    {
     "output_type": "execute_result",
     "data": {
      "text/plain": [
       "3.14132134"
      ]
     },
     "metadata": {},
     "execution_count": 50
    }
   ],
   "source": [
    "class MATH:\n",
    "    PI = 3.14132134\n",
    "\n",
    "MATH.PI"
   ]
  },
  {
   "cell_type": "code",
   "execution_count": null,
   "metadata": {},
   "outputs": [],
   "source": []
  }
 ]
}