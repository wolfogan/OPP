{
 "cells": [
  {
   "cell_type": "code",
   "execution_count": 8,
   "metadata": {},
   "outputs": [
    {
     "name": "stdout",
     "output_type": "stream",
     "text": [
      "Susana,Gold\n",
      "Dudmint,Silver\n",
      "Victor,Stone\n",
      "Victor,Stone\n",
      "2106068867968   2106069594800\n"
     ]
    }
   ],
   "source": [
    "class Customer:\n",
    "\n",
    "    # Constructor class, initialize attributes\n",
    "    # Métodos del objeto\n",
    "    def __init__(self, name, membreship_type):\n",
    "        self.name = name\n",
    "        self.membership_type = membreship_type\n",
    "        \n",
    "\n",
    "    # Redefine el método de lectura de un objeto\n",
    "    def __str__(self):\n",
    "        return f\"{self.name},{self.membership_type}\"\n",
    "    \n",
    "    \n",
    "    \n",
    "    # Método de la clase, o métodos staticos\n",
    "    def print_customers(customers):\n",
    "        for customer in customers:\n",
    "            print(customer)\n",
    "\n",
    "c1 = Customer(\"Victor\",\"Stone\")\n",
    "c2 = Customer(\"Victor\",\"Stone\")\n",
    "\n",
    "customers = [Customer(\"Susana\",\"Gold\"), Customer(\"Dudmint\",\"Silver\"),c1,c2]\n",
    "\n",
    "Customer.print_customers(customers)\n",
    "\n",
    "print(id(c1),\" \",id(c2))\n",
    "\n",
    "\n",
    "\n"
   ]
  },
  {
   "cell_type": "code",
   "execution_count": null,
   "metadata": {},
   "outputs": [],
   "source": []
  }
 ],
 "metadata": {
  "kernelspec": {
   "display_name": "Python 3",
   "language": "python",
   "name": "python3"
  },
  "language_info": {
   "codemirror_mode": {
    "name": "ipython",
    "version": 3
   },
   "file_extension": ".py",
   "mimetype": "text/x-python",
   "name": "python",
   "nbconvert_exporter": "python",
   "pygments_lexer": "ipython3",
   "version": "3.9.4"
  },
  "metadata": {
   "interpreter": {
    "hash": "3442a310ad09965e2d2b12f7c810a3d20c2f1554de96e2822ce67bc9f470492a"
   }
  }
 },
 "nbformat": 4,
 "nbformat_minor": 4
}
