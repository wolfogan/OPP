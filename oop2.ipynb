{
 "cells": [
  {
   "cell_type": "code",
   "execution_count": 1,
   "metadata": {},
   "outputs": [
    {
     "data": {
      "text/plain": [
       "False"
      ]
     },
     "execution_count": 1,
     "metadata": {},
     "output_type": "execute_result"
    }
   ],
   "source": [
    "class Customer:\n",
    "\n",
    "    # Constructor class, initialize attributes\n",
    "    # Métodos del objeto\n",
    "    def __init__(self, name, membreship_type):\n",
    "        self.name = name\n",
    "        self.membership_type = membreship_type\n",
    "        \n",
    "\n",
    "    # Redefine el método de lectura de un objeto\n",
    "    def __str__(self):\n",
    "        return f\"{self.name},{self.membership_type}\"\n",
    "    \n",
    "    # Redefinir método de comparación\n",
    "    def __eq__(self, other):\n",
    "            if self.name == other.name and self.membership_type == other.membership_type:\n",
    "                return True\n",
    "            return False\n",
    "    \n",
    "    # Método de la clase, o métodos staticos\n",
    "    def print_customers(customers):\n",
    "        for customer in customers:\n",
    "            print(customer)\n",
    "\n",
    "c1 = Customer(\"Victor\",\"Stone\")\n",
    "c2 = Customer(\"Victor\",\"Silver\")\n",
    "\n",
    "customers = [Customer(\"Susana\",\"Gold\"), Customer(\"Dudmint\",\"Silver\"),c1,c2]\n",
    "\n",
    "#Customer.print_customers(customers)\n",
    "# print(id(c1),\" \",id(c2))\n",
    "\n",
    "# Compare two object with __eq__ redifine method\n",
    "c1 == c2"
   ]
  },
  {
   "cell_type": "markdown",
   "metadata": {},
   "source": [
    "### Herencia"
   ]
  },
  {
   "cell_type": "code",
   "execution_count": 18,
   "metadata": {},
   "outputs": [
    {
     "name": "stdout",
     "output_type": "stream",
     "text": [
      "Me llamo Nestor, y tengo 3 años\n",
      "Me llamo Zolobino, y tengo 5 años\n"
     ]
    }
   ],
   "source": [
    "# DRY = Don't repeat yourself\n",
    "\n",
    "class Cat:\n",
    "    def __init__(self, name, age):\n",
    "        self.name = name\n",
    "        self.age = age\n",
    "    \n",
    "    def describe_me(self):\n",
    "        print(f\"Me llamo {self.name}, y tengo {self.age} años\")\n",
    "    \n",
    "#     def speak(self):\n",
    "#         print(\"Miau\")\n",
    "\n",
    "class Dog:\n",
    "    def __init__(self, name, age):\n",
    "        self.name = name\n",
    "        self.age = age\n",
    "    \n",
    "    def describe_me(self):\n",
    "        print(f\"Me llamo {self.name}, y tengo {self.age} años\")\n",
    "        \n",
    "#     def speak(self):\n",
    "#         print(\"Guagua\")\n",
    "    \n",
    "\n",
    "    \n",
    "gato1 = Cat(\"Nestor\", 3)\n",
    "perro1 = Dog(\"Zolobino\", 5)\n",
    "\n",
    "gato1.describe_me()\n",
    "perro1.describe_me()"
   ]
  },
  {
   "cell_type": "code",
   "execution_count": null,
   "metadata": {},
   "outputs": [],
   "source": []
  }
 ],
 "metadata": {
  "kernelspec": {
   "display_name": "Python 3.9.4 64-bit",
   "name": "python394jvsc74a57bd03442a310ad09965e2d2b12f7c810a3d20c2f1554de96e2822ce67bc9f470492a"
  },
  "language_info": {
   "codemirror_mode": {
    "name": "ipython",
    "version": 3
   },
   "file_extension": ".py",
   "mimetype": "text/x-python",
   "name": "python",
   "nbconvert_exporter": "python",
   "pygments_lexer": "ipython3",
   "version": "3.9.4-final"
  },
  "metadata": {
   "interpreter": {
    "hash": "3442a310ad09965e2d2b12f7c810a3d20c2f1554de96e2822ce67bc9f470492a"
   }
  }
 },
 "nbformat": 4,
 "nbformat_minor": 4
}
