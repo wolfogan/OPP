{
 "metadata": {
  "language_info": {
   "codemirror_mode": {
    "name": "ipython",
    "version": 3
   },
   "file_extension": ".py",
   "mimetype": "text/x-python",
   "name": "python",
   "nbconvert_exporter": "python",
   "pygments_lexer": "ipython3",
   "version": "3.9.4-final"
  },
  "orig_nbformat": 2,
  "kernelspec": {
   "name": "python394jvsc74a57bd03442a310ad09965e2d2b12f7c810a3d20c2f1554de96e2822ce67bc9f470492a",
   "display_name": "Python 3.9.4 64-bit"
  },
  "metadata": {
   "interpreter": {
    "hash": "3442a310ad09965e2d2b12f7c810a3d20c2f1554de96e2822ce67bc9f470492a"
   }
  }
 },
 "nbformat": 4,
 "nbformat_minor": 2,
 "cells": [
  {
   "cell_type": "code",
   "execution_count": 8,
   "metadata": {},
   "outputs": [
    {
     "output_type": "stream",
     "name": "stdout",
     "text": [
      "<__main__.Customer object at 0x00000257DC3EA5E0>\n<__main__.Customer object at 0x00000257DC3EAD90>\n<__main__.Customer object at 0x00000257DC376F70>\n<__main__.Customer object at 0x00000257DC376CD0>\n"
     ]
    }
   ],
   "source": [
    "class Customer:\n",
    "\n",
    "    # Constructor class, initialize attributes\n",
    "    def __init__(self, name, membreship_type):\n",
    "        self.name = name\n",
    "        self.membership_type = membreship_type\n",
    "\n",
    "    # Redefine el método de lectura de un objeto\n",
    "    def __str__(self):\n",
    "        return f\"{self.name},{self.membership_type}\"\n",
    "\n",
    "c1 = Customer(\"Victor\",\"Stone\")\n",
    "c2 = Customer(\"Leonardo\",\"Fire\")\n",
    "customers = [Customer(\"Susana\",\"Gold\"), Customer(\"Dudmint\",\"Silver\"),c1,c2]\n",
    "\n",
    "for customer in customers:\n",
    "    print(customer)\n",
    "\n",
    "\n"
   ]
  },
  {
   "cell_type": "code",
   "execution_count": null,
   "metadata": {},
   "outputs": [],
   "source": []
  }
 ]
}