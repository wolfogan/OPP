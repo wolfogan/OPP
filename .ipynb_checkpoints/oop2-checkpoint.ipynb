{
 "cells": [
  {
   "cell_type": "code",
   "execution_count": 11,
   "metadata": {},
   "outputs": [
    {
     "data": {
      "text/plain": [
       "False"
      ]
     },
     "execution_count": 11,
     "metadata": {},
     "output_type": "execute_result"
    }
   ],
   "source": [
    "class Customer:\n",
    "\n",
    "    # Constructor class, initialize attributes\n",
    "    # Métodos del objeto\n",
    "    def __init__(self, name, membreship_type):\n",
    "        self.name = name\n",
    "        self.membership_type = membreship_type\n",
    "        \n",
    "\n",
    "    # Redefine el método de lectura de un objeto\n",
    "    def __str__(self):\n",
    "        return f\"{self.name},{self.membership_type}\"\n",
    "    \n",
    "    # Redefinir método de comparación\n",
    "    def __eq__(self, other):\n",
    "            if self.name == other.name and self.membership_type == other.membership_type:\n",
    "                return True\n",
    "            return False\n",
    "    \n",
    "    # Método de la clase, o métodos staticos\n",
    "    def print_customers(customers):\n",
    "        for customer in customers:\n",
    "            print(customer)\n",
    "\n",
    "c1 = Customer(\"Victor\",\"Stone\")\n",
    "c2 = Customer(\"Victor\",\"Silver\")\n",
    "\n",
    "customers = [Customer(\"Susana\",\"Gold\"), Customer(\"Dudmint\",\"Silver\"),c1,c2]\n",
    "\n",
    "#Customer.print_customers(customers)\n",
    "# print(id(c1),\" \",id(c2))\n",
    "\n",
    "# Compare two object with __eq__ redifine method\n",
    "c1 == c2\n",
    "\n",
    "\n",
    "\n"
   ]
  },
  {
   "cell_type": "code",
   "execution_count": null,
   "metadata": {},
   "outputs": [],
   "source": []
  },
  {
   "cell_type": "code",
   "execution_count": null,
   "metadata": {},
   "outputs": [],
   "source": []
  },
  {
   "cell_type": "code",
   "execution_count": null,
   "metadata": {},
   "outputs": [],
   "source": []
  }
 ],
 "metadata": {
  "kernelspec": {
   "display_name": "Python 3",
   "language": "python",
   "name": "python3"
  },
  "language_info": {
   "codemirror_mode": {
    "name": "ipython",
    "version": 3
   },
   "file_extension": ".py",
   "mimetype": "text/x-python",
   "name": "python",
   "nbconvert_exporter": "python",
   "pygments_lexer": "ipython3",
   "version": "3.9.4"
  },
  "metadata": {
   "interpreter": {
    "hash": "3442a310ad09965e2d2b12f7c810a3d20c2f1554de96e2822ce67bc9f470492a"
   }
  }
 },
 "nbformat": 4,
 "nbformat_minor": 4
}
